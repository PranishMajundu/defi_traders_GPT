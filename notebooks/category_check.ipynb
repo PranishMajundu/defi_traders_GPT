{
 "cells": [
  {
   "cell_type": "code",
   "execution_count": 3,
   "metadata": {},
   "outputs": [],
   "source": [
    "import pandas as pd\n",
    "import numpy as np\n"
   ]
  },
  {
   "cell_type": "code",
   "execution_count": 4,
   "metadata": {},
   "outputs": [],
   "source": [
    "df=pd.read_csv(\"../GPT4_setup/coingeckoCategories_scraper_out.csv\")"
   ]
  },
  {
   "cell_type": "code",
   "execution_count": 5,
   "metadata": {},
   "outputs": [],
   "source": [
    "df.rename({\"Unnamed: 0\": \"category\", '0':\"token\"},axis=1,inplace=True)"
   ]
  },
  {
   "cell_type": "code",
   "execution_count": 6,
   "metadata": {},
   "outputs": [
    {
     "data": {
      "text/plain": [
       "0      ['bitcoin', 'ethereum', 'bnb', 'cardano', 'sol...\n",
       "1      ['bitcoin', 'ethereum', 'bnb', 'cardano', 'sol...\n",
       "2      ['ethereum', 'bnb', 'cardano', 'solana', 'tron...\n",
       "3      ['tether', 'usd coin', 'dai', 'binance usd', '...\n",
       "4      ['bnb', 'uniswap', 'leo token', 'okb', 'cronos...\n",
       "                             ...                        \n",
       "98     ['tether', 'bnb', 'usd coin', 'polygon', 'wrap...\n",
       "99     ['tether', 'bnb', 'usd coin', 'dogecoin', 'pol...\n",
       "100    ['mdex (heco)', 'beefy.finance', 'swftcoin', '...\n",
       "101    ['cosmos hub', 'cronos', 'injective', 'kava', ...\n",
       "102    ['polkadot', 'chainlink', 'kusama', 'astar', '...\n",
       "Name: token, Length: 103, dtype: object"
      ]
     },
     "execution_count": 6,
     "metadata": {},
     "output_type": "execute_result"
    }
   ],
   "source": [
    "df['token'].apply(lambda x: eval(x))\n",
    "df['token'].apply(lambda x: str(x).lower())"
   ]
  },
  {
   "cell_type": "code",
   "execution_count": 7,
   "metadata": {},
   "outputs": [],
   "source": [
    "def preprocess(df):\n",
    "    df.rename({\"Unnamed: 0\": \"category\", '0':\"token\"},axis=1,inplace=True)\n",
    "    df['token'].apply(lambda x: eval(x))\n",
    "    df['token'].apply(lambda x: str(x).lower())\n",
    "    return(df)"
   ]
  },
  {
   "cell_type": "code",
   "execution_count": 8,
   "metadata": {},
   "outputs": [],
   "source": [
    "pdf=preprocess(df)"
   ]
  },
  {
   "cell_type": "code",
   "execution_count": 10,
   "metadata": {},
   "outputs": [
    {
     "data": {
      "text/html": [
       "<div>\n",
       "<style scoped>\n",
       "    .dataframe tbody tr th:only-of-type {\n",
       "        vertical-align: middle;\n",
       "    }\n",
       "\n",
       "    .dataframe tbody tr th {\n",
       "        vertical-align: top;\n",
       "    }\n",
       "\n",
       "    .dataframe thead th {\n",
       "        text-align: right;\n",
       "    }\n",
       "</style>\n",
       "<table border=\"1\" class=\"dataframe\">\n",
       "  <thead>\n",
       "    <tr style=\"text-align: right;\">\n",
       "      <th></th>\n",
       "      <th>category</th>\n",
       "      <th>token</th>\n",
       "    </tr>\n",
       "  </thead>\n",
       "  <tbody>\n",
       "    <tr>\n",
       "      <th>0</th>\n",
       "      <td>layer-1</td>\n",
       "      <td>['Bitcoin', 'Ethereum', 'BNB', 'Cardano', 'Sol...</td>\n",
       "    </tr>\n",
       "    <tr>\n",
       "      <th>1</th>\n",
       "      <td>smart-contract-platform</td>\n",
       "      <td>['Bitcoin', 'Ethereum', 'BNB', 'Cardano', 'Sol...</td>\n",
       "    </tr>\n",
       "    <tr>\n",
       "      <th>2</th>\n",
       "      <td>stablecoins</td>\n",
       "      <td>['Ethereum', 'BNB', 'Cardano', 'Solana', 'TRON...</td>\n",
       "    </tr>\n",
       "    <tr>\n",
       "      <th>3</th>\n",
       "      <td>exchange-based-tokens</td>\n",
       "      <td>['Tether', 'USD Coin', 'Dai', 'Binance USD', '...</td>\n",
       "    </tr>\n",
       "    <tr>\n",
       "      <th>4</th>\n",
       "      <td>centralized-exchange-token-cex</td>\n",
       "      <td>['BNB', 'Uniswap', 'LEO Token', 'OKB', 'Cronos...</td>\n",
       "    </tr>\n",
       "    <tr>\n",
       "      <th>...</th>\n",
       "      <td>...</td>\n",
       "      <td>...</td>\n",
       "    </tr>\n",
       "    <tr>\n",
       "      <th>98</th>\n",
       "      <td>binance-smart-chain</td>\n",
       "      <td>['Tether', 'BNB', 'USD Coin', 'Polygon', 'Wrap...</td>\n",
       "    </tr>\n",
       "    <tr>\n",
       "      <th>99</th>\n",
       "      <td>heco-chain-ecosystem</td>\n",
       "      <td>['Tether', 'BNB', 'USD Coin', 'Dogecoin', 'Pol...</td>\n",
       "    </tr>\n",
       "    <tr>\n",
       "      <th>100</th>\n",
       "      <td>cosmos-ecosystem</td>\n",
       "      <td>['Mdex (HECO)', 'Beefy.Finance', 'SWFTCOIN', '...</td>\n",
       "    </tr>\n",
       "    <tr>\n",
       "      <th>101</th>\n",
       "      <td>dot-ecosystem</td>\n",
       "      <td>['Cosmos Hub', 'Cronos', 'Injective', 'Kava', ...</td>\n",
       "    </tr>\n",
       "    <tr>\n",
       "      <th>102</th>\n",
       "      <td>aave-tokens</td>\n",
       "      <td>['Polkadot', 'Chainlink', 'Kusama', 'Astar', '...</td>\n",
       "    </tr>\n",
       "  </tbody>\n",
       "</table>\n",
       "<p>103 rows × 2 columns</p>\n",
       "</div>"
      ],
      "text/plain": [
       "                           category  \\\n",
       "0                           layer-1   \n",
       "1           smart-contract-platform   \n",
       "2                       stablecoins   \n",
       "3             exchange-based-tokens   \n",
       "4    centralized-exchange-token-cex   \n",
       "..                              ...   \n",
       "98              binance-smart-chain   \n",
       "99             heco-chain-ecosystem   \n",
       "100                cosmos-ecosystem   \n",
       "101                   dot-ecosystem   \n",
       "102                     aave-tokens   \n",
       "\n",
       "                                                 token  \n",
       "0    ['Bitcoin', 'Ethereum', 'BNB', 'Cardano', 'Sol...  \n",
       "1    ['Bitcoin', 'Ethereum', 'BNB', 'Cardano', 'Sol...  \n",
       "2    ['Ethereum', 'BNB', 'Cardano', 'Solana', 'TRON...  \n",
       "3    ['Tether', 'USD Coin', 'Dai', 'Binance USD', '...  \n",
       "4    ['BNB', 'Uniswap', 'LEO Token', 'OKB', 'Cronos...  \n",
       "..                                                 ...  \n",
       "98   ['Tether', 'BNB', 'USD Coin', 'Polygon', 'Wrap...  \n",
       "99   ['Tether', 'BNB', 'USD Coin', 'Dogecoin', 'Pol...  \n",
       "100  ['Mdex (HECO)', 'Beefy.Finance', 'SWFTCOIN', '...  \n",
       "101  ['Cosmos Hub', 'Cronos', 'Injective', 'Kava', ...  \n",
       "102  ['Polkadot', 'Chainlink', 'Kusama', 'Astar', '...  \n",
       "\n",
       "[103 rows x 2 columns]"
      ]
     },
     "execution_count": 10,
     "metadata": {},
     "output_type": "execute_result"
    }
   ],
   "source": [
    "df"
   ]
  },
  {
   "cell_type": "code",
   "execution_count": 13,
   "metadata": {},
   "outputs": [
    {
     "data": {
      "text/plain": [
       "0      ['bitcoin', 'ethereum', 'bnb', 'cardano', 'sol...\n",
       "1      ['bitcoin', 'ethereum', 'bnb', 'cardano', 'sol...\n",
       "2      ['ethereum', 'bnb', 'cardano', 'solana', 'tron...\n",
       "3      ['tether', 'usd coin', 'dai', 'binance usd', '...\n",
       "4      ['bnb', 'uniswap', 'leo token', 'okb', 'cronos...\n",
       "                             ...                        \n",
       "98     ['tether', 'bnb', 'usd coin', 'polygon', 'wrap...\n",
       "99     ['tether', 'bnb', 'usd coin', 'dogecoin', 'pol...\n",
       "100    ['mdex (heco)', 'beefy.finance', 'swftcoin', '...\n",
       "101    ['cosmos hub', 'cronos', 'injective', 'kava', ...\n",
       "102    ['polkadot', 'chainlink', 'kusama', 'astar', '...\n",
       "Name: token, Length: 103, dtype: object"
      ]
     },
     "execution_count": 13,
     "metadata": {},
     "output_type": "execute_result"
    }
   ],
   "source": [
    "pdf['token'].apply(lambda x: str(x).lower())"
   ]
  },
  {
   "cell_type": "code",
   "execution_count": 16,
   "metadata": {},
   "outputs": [],
   "source": [
    "pdf['contains']=pdf['token'].apply(lambda x: (True if 'BNB' in x else False))"
   ]
  },
  {
   "cell_type": "code",
   "execution_count": 17,
   "metadata": {},
   "outputs": [
    {
     "data": {
      "text/html": [
       "<div>\n",
       "<style scoped>\n",
       "    .dataframe tbody tr th:only-of-type {\n",
       "        vertical-align: middle;\n",
       "    }\n",
       "\n",
       "    .dataframe tbody tr th {\n",
       "        vertical-align: top;\n",
       "    }\n",
       "\n",
       "    .dataframe thead th {\n",
       "        text-align: right;\n",
       "    }\n",
       "</style>\n",
       "<table border=\"1\" class=\"dataframe\">\n",
       "  <thead>\n",
       "    <tr style=\"text-align: right;\">\n",
       "      <th></th>\n",
       "      <th>category</th>\n",
       "      <th>token</th>\n",
       "      <th>contains</th>\n",
       "    </tr>\n",
       "  </thead>\n",
       "  <tbody>\n",
       "    <tr>\n",
       "      <th>0</th>\n",
       "      <td>layer-1</td>\n",
       "      <td>['Bitcoin', 'Ethereum', 'BNB', 'Cardano', 'Sol...</td>\n",
       "      <td>True</td>\n",
       "    </tr>\n",
       "    <tr>\n",
       "      <th>1</th>\n",
       "      <td>smart-contract-platform</td>\n",
       "      <td>['Bitcoin', 'Ethereum', 'BNB', 'Cardano', 'Sol...</td>\n",
       "      <td>True</td>\n",
       "    </tr>\n",
       "    <tr>\n",
       "      <th>2</th>\n",
       "      <td>stablecoins</td>\n",
       "      <td>['Ethereum', 'BNB', 'Cardano', 'Solana', 'TRON...</td>\n",
       "      <td>True</td>\n",
       "    </tr>\n",
       "    <tr>\n",
       "      <th>3</th>\n",
       "      <td>exchange-based-tokens</td>\n",
       "      <td>['Tether', 'USD Coin', 'Dai', 'Binance USD', '...</td>\n",
       "      <td>False</td>\n",
       "    </tr>\n",
       "    <tr>\n",
       "      <th>4</th>\n",
       "      <td>centralized-exchange-token-cex</td>\n",
       "      <td>['BNB', 'Uniswap', 'LEO Token', 'OKB', 'Cronos...</td>\n",
       "      <td>True</td>\n",
       "    </tr>\n",
       "    <tr>\n",
       "      <th>...</th>\n",
       "      <td>...</td>\n",
       "      <td>...</td>\n",
       "      <td>...</td>\n",
       "    </tr>\n",
       "    <tr>\n",
       "      <th>98</th>\n",
       "      <td>binance-smart-chain</td>\n",
       "      <td>['Tether', 'BNB', 'USD Coin', 'Polygon', 'Wrap...</td>\n",
       "      <td>True</td>\n",
       "    </tr>\n",
       "    <tr>\n",
       "      <th>99</th>\n",
       "      <td>heco-chain-ecosystem</td>\n",
       "      <td>['Tether', 'BNB', 'USD Coin', 'Dogecoin', 'Pol...</td>\n",
       "      <td>True</td>\n",
       "    </tr>\n",
       "    <tr>\n",
       "      <th>100</th>\n",
       "      <td>cosmos-ecosystem</td>\n",
       "      <td>['Mdex (HECO)', 'Beefy.Finance', 'SWFTCOIN', '...</td>\n",
       "      <td>False</td>\n",
       "    </tr>\n",
       "    <tr>\n",
       "      <th>101</th>\n",
       "      <td>dot-ecosystem</td>\n",
       "      <td>['Cosmos Hub', 'Cronos', 'Injective', 'Kava', ...</td>\n",
       "      <td>False</td>\n",
       "    </tr>\n",
       "    <tr>\n",
       "      <th>102</th>\n",
       "      <td>aave-tokens</td>\n",
       "      <td>['Polkadot', 'Chainlink', 'Kusama', 'Astar', '...</td>\n",
       "      <td>False</td>\n",
       "    </tr>\n",
       "  </tbody>\n",
       "</table>\n",
       "<p>103 rows × 3 columns</p>\n",
       "</div>"
      ],
      "text/plain": [
       "                           category  \\\n",
       "0                           layer-1   \n",
       "1           smart-contract-platform   \n",
       "2                       stablecoins   \n",
       "3             exchange-based-tokens   \n",
       "4    centralized-exchange-token-cex   \n",
       "..                              ...   \n",
       "98              binance-smart-chain   \n",
       "99             heco-chain-ecosystem   \n",
       "100                cosmos-ecosystem   \n",
       "101                   dot-ecosystem   \n",
       "102                     aave-tokens   \n",
       "\n",
       "                                                 token  contains  \n",
       "0    ['Bitcoin', 'Ethereum', 'BNB', 'Cardano', 'Sol...      True  \n",
       "1    ['Bitcoin', 'Ethereum', 'BNB', 'Cardano', 'Sol...      True  \n",
       "2    ['Ethereum', 'BNB', 'Cardano', 'Solana', 'TRON...      True  \n",
       "3    ['Tether', 'USD Coin', 'Dai', 'Binance USD', '...     False  \n",
       "4    ['BNB', 'Uniswap', 'LEO Token', 'OKB', 'Cronos...      True  \n",
       "..                                                 ...       ...  \n",
       "98   ['Tether', 'BNB', 'USD Coin', 'Polygon', 'Wrap...      True  \n",
       "99   ['Tether', 'BNB', 'USD Coin', 'Dogecoin', 'Pol...      True  \n",
       "100  ['Mdex (HECO)', 'Beefy.Finance', 'SWFTCOIN', '...     False  \n",
       "101  ['Cosmos Hub', 'Cronos', 'Injective', 'Kava', ...     False  \n",
       "102  ['Polkadot', 'Chainlink', 'Kusama', 'Astar', '...     False  \n",
       "\n",
       "[103 rows x 3 columns]"
      ]
     },
     "execution_count": 17,
     "metadata": {},
     "output_type": "execute_result"
    }
   ],
   "source": [
    "pdf"
   ]
  },
  {
   "cell_type": "code",
   "execution_count": 22,
   "metadata": {},
   "outputs": [],
   "source": [
    "def category_check(token):\n",
    "    df['token'].apply(lambda x: str(x).lower())\n",
    "    df['contains']=df['token'].apply(lambda x: (True if token in x else False))\n",
    "    list_of_cats=df[df['contains']==True]['category'].to_list()\n",
    "    return(list_of_cats)"
   ]
  },
  {
   "cell_type": "code",
   "execution_count": 23,
   "metadata": {},
   "outputs": [
    {
     "name": "stdout",
     "output_type": "stream",
     "text": [
      "[]\n"
     ]
    }
   ],
   "source": [
    "print(category_check(token=\"ethereum\"))"
   ]
  },
  {
   "cell_type": "code",
   "execution_count": 15,
   "metadata": {},
   "outputs": [
    {
     "name": "stdout",
     "output_type": "stream",
     "text": [
      "category\n",
      "token\n"
     ]
    }
   ],
   "source": [
    "for i in pdf:\n",
    "    print(i)"
   ]
  },
  {
   "cell_type": "code",
   "execution_count": null,
   "metadata": {},
   "outputs": [],
   "source": []
  }
 ],
 "metadata": {
  "kernelspec": {
   "display_name": "trade",
   "language": "python",
   "name": "trade"
  },
  "language_info": {
   "codemirror_mode": {
    "name": "ipython",
    "version": 3
   },
   "file_extension": ".py",
   "mimetype": "text/x-python",
   "name": "python",
   "nbconvert_exporter": "python",
   "pygments_lexer": "ipython3",
   "version": "3.10.4"
  },
  "orig_nbformat": 4
 },
 "nbformat": 4,
 "nbformat_minor": 2
}
